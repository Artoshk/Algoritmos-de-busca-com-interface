{
 "cells": [
  {
   "cell_type": "code",
   "execution_count": 1,
   "id": "40f909c5",
   "metadata": {},
   "outputs": [],
   "source": [
    "from matplotlib.axes import Axes\n",
    "import networkx as nx\n",
    "import matplotlib.pyplot as plt\n",
    "import ipywidgets as widgets\n",
    "from IPython.display import display, clear_output\n",
    "import sys\n",
    "\n",
    "from search_functions_v2 import flooding, random_walk, instant_random_walk\n",
    "from validate import read_and_validate_network\n"
   ]
  },
  {
   "cell_type": "code",
   "execution_count": 2,
   "id": "3e92528b",
   "metadata": {
    "scrolled": true
   },
   "outputs": [
    {
     "name": "stdout",
     "output_type": "stream",
     "text": [
      "Graph with 10 nodes and 12 edges\n",
      "O grafo é válido!\n"
     ]
    }
   ],
   "source": [
    "G = read_and_validate_network(\"grafo.txt\")\n",
    "cache_dfs = {}\n",
    "cache_bfs = {}\n"
   ]
  },
  {
   "cell_type": "code",
   "execution_count": 3,
   "id": "a93cb60c",
   "metadata": {},
   "outputs": [
    {
     "data": {
      "text/plain": [
       "<contextlib.ExitStack at 0x1cc7ca03e80>"
      ]
     },
     "execution_count": 3,
     "metadata": {},
     "output_type": "execute_result"
    }
   ],
   "source": [
    "%matplotlib qt\n",
    "pos: dict = nx.spring_layout(G)\n",
    "\n",
    "for node in G.nodes():\n",
    "    if 'color' not in G.nodes[node]:\n",
    "        G.nodes[node]['color'] = 'lightblue'\n",
    "\n",
    "for edge in G.edges():\n",
    "    if 'color' not in G.edges[edge]:\n",
    "        G.edges[edge]['color'] = 'black'\n",
    "\n",
    "ax: Axes\n",
    "_, ax = plt.subplots(figsize=(8, 6))\n",
    "\n",
    "def draw(G: nx.Graph):\n",
    "    ax.clear()\n",
    "\n",
    "    node_colors = [G.nodes[node]['color'] for node in G.nodes()]\n",
    "    edge_colors = [G.edges[edge]['color'] for edge in G.edges()]\n",
    "    nx.draw(\n",
    "        G,\n",
    "        pos=pos,\n",
    "        with_labels=True,\n",
    "        node_color=node_colors,\n",
    "        edge_color=edge_colors,\n",
    "        node_size=800,\n",
    "        font_weight='bold',\n",
    "        ax=ax\n",
    "    )\n",
    "\n",
    "    for node in G.nodes():\n",
    "        if 'resources' in G.nodes[node]:\n",
    "            resources = G.nodes[node]['resources']\n",
    "            ax.text(\n",
    "                pos[node][0],\n",
    "                pos[node][1] + 0.15,\n",
    "                resources,\n",
    "                horizontalalignment='center',\n",
    "                verticalalignment='center'\n",
    "            )\n",
    "\n",
    "def clear(G: nx.Graph):\n",
    "    for node in G.nodes():\n",
    "        if 'color' in G.nodes[node]:\n",
    "            G.nodes[node]['color'] = 'lightblue'\n",
    "    for edge in G.edges():\n",
    "        if 'color' in G.edges[edge]:\n",
    "            G.edges[edge]['color'] = 'black'\n",
    "    draw(G)\n",
    "\n",
    "draw(G)\n",
    "plt.show()\n",
    "plt.ion()\n"
   ]
  },
  {
   "cell_type": "code",
   "execution_count": 5,
   "id": "429cb65f",
   "metadata": {},
   "outputs": [
    {
     "data": {
      "application/vnd.jupyter.widget-view+json": {
       "model_id": "362676a6ab5b4ff88d5b0fd7f34acc35",
       "version_major": 2,
       "version_minor": 0
      },
      "text/plain": [
       "VBox(children=(Dropdown(description='Algorithm:', options=('Flooding', 'Random Walk', 'Instant Random Walk'), …"
      ]
     },
     "metadata": {},
     "output_type": "display_data"
    },
    {
     "data": {
      "application/vnd.jupyter.widget-view+json": {
       "model_id": "5cb9e6611f6a46ca8233d72916bb7622",
       "version_major": 2,
       "version_minor": 0
      },
      "text/plain": [
       "Output(outputs=({'output_type': 'stream', 'text': \"Running Flooding from node n1 to resource r15\\nCACHE HIT! B…"
      ]
     },
     "metadata": {},
     "output_type": "display_data"
    }
   ],
   "source": [
    "start_node: str = 'n1'  # Replace with your preferred start node\n",
    "resource: str = 'r15'  # Replace with your preferred end node\n",
    "\n",
    "algorithm_dropdown = widgets.Dropdown(\n",
    "    options=['Flooding', 'Random Walk', 'Instant Random Walk'],\n",
    "    value='Flooding',\n",
    "    description='Algorithm:'\n",
    ")\n",
    "\n",
    "start_node_text = widgets.Text(value=start_node, description='Start Node:')\n",
    "resource_text = widgets.Text(value=resource, description='Resource:')\n",
    "\n",
    "cache_checkbox = widgets.Checkbox(value=True, description='Enable Cache')\n",
    "\n",
    "max_ttl_text = widgets.Text(value=str(sys.maxsize), description='Max TTL:')\n",
    "\n",
    "run_button = widgets.Button(description='Run')\n",
    "clear_cache_button = widgets.Button(description='Clear Cache')\n",
    "show_cache_button = widgets.Button(description='Show Cache')\n",
    "\n",
    "output = widgets.Output()\n",
    "\n",
    "def run_algorithm(_):\n",
    "    clear(G)\n",
    "    clear_output()\n",
    "    display(widgets_box, output)\n",
    "    algorithm = algorithm_dropdown.value\n",
    "    start = start_node_text.value\n",
    "    res = resource_text.value\n",
    "    use_cache = cache_checkbox.value\n",
    "    max_ttl = int(max_ttl_text.value)\n",
    "\n",
    "    with output:\n",
    "        output.clear_output()\n",
    "        if algorithm == 'Flooding':\n",
    "            print(\"Running Flooding from node\", start, \"to resource\", res)\n",
    "            connection_count = flooding(\n",
    "                G,\n",
    "                start,\n",
    "                res,\n",
    "                draw,\n",
    "                cache_bfs if use_cache else None,\n",
    "                max_ttl=max_ttl\n",
    "            )\n",
    "            print(\"connection_count:\", connection_count)\n",
    "        elif algorithm == 'Random Walk':\n",
    "            print(\"Running Random Walk from node\", start, \"to resource\", res)\n",
    "            connection_count = random_walk(\n",
    "                G,\n",
    "                start,\n",
    "                res,\n",
    "                draw,\n",
    "                cache_dfs if use_cache else None,\n",
    "                max_ttl=max_ttl\n",
    "            )\n",
    "            print(\"connection_count:\", connection_count)\n",
    "        elif algorithm == 'Instant Random Walk':\n",
    "            print(\"Running Instant Random Walk from node\", start, \"to resource\", res)\n",
    "            path, connection_count = instant_random_walk(\n",
    "                G,\n",
    "                start,\n",
    "                res,\n",
    "                cache=cache_dfs if use_cache else None,\n",
    "                max_ttl=max_ttl\n",
    "            )\n",
    "            print(\"connection_count:\", connection_count)\n",
    "            \n",
    "def clear_cache():\n",
    "    global cache_dfs\n",
    "    global cache_bfs\n",
    "    cache_dfs = {}\n",
    "    cache_bfs = {}\n",
    "    clear_output()\n",
    "    display(widgets_box, output)\n",
    "\n",
    "\n",
    "def show_cache():\n",
    "    print('Cache DFS: ', cache_dfs)\n",
    "    print('Cache BFS: ', cache_bfs)\n",
    "\n",
    "run_button.on_click(run_algorithm)\n",
    "clear_cache_button.on_click(lambda _: clear_cache())\n",
    "show_cache_button.on_click(lambda _: show_cache())\n",
    "\n",
    "widgets_box = widgets.VBox(\n",
    "    [algorithm_dropdown, start_node_text, resource_text, cache_checkbox, max_ttl_text, run_button, clear_cache_button, show_cache_button]\n",
    ")\n",
    "\n",
    "display(widgets_box, output)\n"
   ]
  }
 ],
 "metadata": {
  "kernelspec": {
   "display_name": "Python 3 (ipykernel)",
   "language": "python",
   "name": "python3"
  },
  "language_info": {
   "codemirror_mode": {
    "name": "ipython",
    "version": 3
   },
   "file_extension": ".py",
   "mimetype": "text/x-python",
   "name": "python",
   "nbconvert_exporter": "python",
   "pygments_lexer": "ipython3",
   "version": "3.10.6"
  }
 },
 "nbformat": 4,
 "nbformat_minor": 5
}
