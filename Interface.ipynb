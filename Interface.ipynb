{
 "cells": [
  {
   "cell_type": "code",
   "execution_count": 1,
   "id": "40f909c5",
   "metadata": {},
   "outputs": [],
   "source": [
    "from matplotlib.axes import Axes\n",
    "import networkx as nx\n",
    "import matplotlib.pyplot as plt\n",
    "import ipywidgets as widgets\n",
    "from IPython.display import display, clear_output\n",
    "import sys\n",
    "\n",
    "from search_functions_v2 import flooding, random_walk, instant_random_walk\n",
    "from validate import read_and_validate_network\n"
   ]
  },
  {
   "cell_type": "code",
   "execution_count": 2,
   "id": "3e92528b",
   "metadata": {
    "scrolled": true
   },
   "outputs": [
    {
     "name": "stdout",
     "output_type": "stream",
     "text": [
      "Graph with 10 nodes and 12 edges\n",
      "O grafo é válido!\n"
     ]
    }
   ],
   "source": [
    "G = read_and_validate_network(\"grafo.txt\")\n",
    "cache_dfs = {}\n",
    "cache_bfs = {}\n"
   ]
  },
  {
   "cell_type": "code",
   "execution_count": 3,
   "id": "a93cb60c",
   "metadata": {},
   "outputs": [
    {
     "data": {
      "text/plain": [
       "<contextlib.ExitStack at 0x2242ae53df0>"
      ]
     },
     "execution_count": 3,
     "metadata": {},
     "output_type": "execute_result"
    }
   ],
   "source": [
    "%matplotlib qt\n",
    "pos: dict = nx.spring_layout(G)\n",
    "\n",
    "for node in G.nodes():\n",
    "    if 'color' not in G.nodes[node]:\n",
    "        G.nodes[node]['color'] = 'lightblue'\n",
    "\n",
    "for edge in G.edges():\n",
    "    if 'color' not in G.edges[edge]:\n",
    "        G.edges[edge]['color'] = 'black'\n",
    "\n",
    "ax: Axes\n",
    "_, ax = plt.subplots(figsize=(8, 6))\n",
    "\n",
    "def draw(G: nx.Graph):\n",
    "    ax.clear()\n",
    "\n",
    "    node_colors = [G.nodes[node]['color'] for node in G.nodes()]\n",
    "    edge_colors = [G.edges[edge]['color'] for edge in G.edges()]\n",
    "    nx.draw(\n",
    "        G,\n",
    "        pos=pos,\n",
    "        with_labels=True,\n",
    "        node_color=node_colors,\n",
    "        edge_color=edge_colors,\n",
    "        node_size=800,\n",
    "        font_weight='bold',\n",
    "        ax=ax\n",
    "    )\n",
    "\n",
    "    for node in G.nodes():\n",
    "        if 'resources' in G.nodes[node]:\n",
    "            resources = G.nodes[node]['resources']\n",
    "            ax.text(\n",
    "                pos[node][0],\n",
    "                pos[node][1] + 0.15,\n",
    "                resources,\n",
    "                horizontalalignment='center',\n",
    "                verticalalignment='center'\n",
    "            )\n",
    "\n",
    "def clear(G: nx.Graph):\n",
    "    for node in G.nodes():\n",
    "        if 'color' in G.nodes[node]:\n",
    "            G.nodes[node]['color'] = 'lightblue'\n",
    "    for edge in G.edges():\n",
    "        if 'color' in G.edges[edge]:\n",
    "            G.edges[edge]['color'] = 'black'\n",
    "    draw(G)\n",
    "\n",
    "draw(G)\n",
    "plt.show()\n",
    "plt.ion()\n"
   ]
  },
  {
   "cell_type": "code",
   "execution_count": 4,
   "id": "429cb65f",
   "metadata": {},
   "outputs": [
    {
     "data": {
      "application/vnd.jupyter.widget-view+json": {
       "model_id": "90a19a2e0bf047cfbbba1511c9225dd1",
       "version_major": 2,
       "version_minor": 0
      },
      "text/plain": [
       "VBox(children=(Dropdown(description='Algorithm:', options=('Flooding', 'Random Walk'), value='Flooding'), Text…"
      ]
     },
     "metadata": {},
     "output_type": "display_data"
    },
    {
     "data": {
      "application/vnd.jupyter.widget-view+json": {
       "model_id": "b44466c3745f4445b07fd6a6279940c5",
       "version_major": 2,
       "version_minor": 0
      },
      "text/plain": [
       "Output(outputs=({'output_type': 'stream', 'text': \"Running Flooding from node n1 to resource r6\\nCACHE HIT! Br…"
      ]
     },
     "metadata": {},
     "output_type": "display_data"
    },
    {
     "name": "stdout",
     "output_type": "stream",
     "text": [
      "Cache DFS:  {}\n",
      "Cache BFS:  {('n2', 'r6'): ['n2', 'n4'], ('n1', 'r6'): ['n1', 'n2', 'n4'], ('n3', 'r6'): ['n3', 'n1', 'n2', 'n4']}\n"
     ]
    }
   ],
   "source": [
    "start_node: str = 'n1'  # Replace with your preferred start node\n",
    "resource: str = 'r15'  # Replace with your preferred end node\n",
    "\n",
    "algorithm_dropdown = widgets.Dropdown(\n",
    "    options=['Flooding', 'Random Walk'],\n",
    "    value='Flooding',\n",
    "    description='Algorithm:'\n",
    ")\n",
    "\n",
    "start_node_text = widgets.Text(value=start_node, description='Start Node:')\n",
    "resource_text = widgets.Text(value=resource, description='Resource:')\n",
    "\n",
    "cache_checkbox = widgets.Checkbox(value=True, description='Enable Cache')\n",
    "\n",
    "max_ttl_text = widgets.Text(value=str(sys.maxsize), description='Max TTL:')\n",
    "\n",
    "run_button = widgets.Button(description='Run')\n",
    "clear_cache_button = widgets.Button(description='Clear Cache')\n",
    "show_cache_button = widgets.Button(description='Show Cache')\n",
    "\n",
    "output = widgets.Output()\n",
    "\n",
    "def run_algorithm(_):\n",
    "    clear(G)\n",
    "    clear_output()\n",
    "    display(widgets_box, output)\n",
    "    algorithm = algorithm_dropdown.value\n",
    "    start = start_node_text.value\n",
    "    res = resource_text.value\n",
    "    use_cache = cache_checkbox.value\n",
    "    max_ttl = int(max_ttl_text.value)\n",
    "\n",
    "    with output:\n",
    "        output.clear_output()\n",
    "        if algorithm == 'Flooding':\n",
    "            print(\"Running Flooding from node\", start, \"to resource\", res)\n",
    "            connection_count = flooding(\n",
    "                G,\n",
    "                start,\n",
    "                res,\n",
    "                draw,\n",
    "                cache_bfs if use_cache else None,\n",
    "                max_ttl=max_ttl\n",
    "            )\n",
    "            print(\"connection_count:\", connection_count)\n",
    "        elif algorithm == 'Random Walk':\n",
    "            print(\"Running Random Walk from node\", start, \"to resource\", res)\n",
    "            connection_count = random_walk(\n",
    "                G,\n",
    "                start,\n",
    "                res,\n",
    "                draw,\n",
    "                cache_dfs if use_cache else None,\n",
    "                max_ttl=max_ttl\n",
    "            )\n",
    "            print(\"connection_count:\", connection_count)\n",
    "            \n",
    "def clear_cache():\n",
    "    global cache_dfs\n",
    "    global cache_bfs\n",
    "    cache_dfs = {}\n",
    "    cache_bfs = {}\n",
    "    clear_output()\n",
    "    display(widgets_box, output)\n",
    "\n",
    "\n",
    "def show_cache():\n",
    "    print('Cache DFS: ', cache_dfs)\n",
    "    print('Cache BFS: ', cache_bfs)\n",
    "\n",
    "run_button.on_click(run_algorithm)\n",
    "clear_cache_button.on_click(lambda _: clear_cache())\n",
    "show_cache_button.on_click(lambda _: show_cache())\n",
    "\n",
    "widgets_box = widgets.VBox(\n",
    "    [algorithm_dropdown, start_node_text, resource_text, cache_checkbox, max_ttl_text, run_button, clear_cache_button, show_cache_button]\n",
    ")\n",
    "\n",
    "display(widgets_box, output)\n"
   ]
  },
  {
   "cell_type": "code",
   "execution_count": 5,
   "id": "7d9acfde",
   "metadata": {},
   "outputs": [
    {
     "data": {
      "application/vnd.jupyter.widget-view+json": {
       "model_id": "025c47b3d23e43ed9a79a4caea7894f9",
       "version_major": 2,
       "version_minor": 0
      },
      "text/plain": [
       "VBox(children=(Text(value='1000', description='Runs:'), Button(description='Run All', style=ButtonStyle())))"
      ]
     },
     "metadata": {},
     "output_type": "display_data"
    },
    {
     "data": {
      "application/vnd.jupyter.widget-view+json": {
       "model_id": "881070957dec494ca3d24772d418a8b5",
       "version_major": 2,
       "version_minor": 0
      },
      "text/plain": [
       "VBox(children=(IntProgress(value=0, bar_style='info', description='Progress:', max=1),))"
      ]
     },
     "metadata": {},
     "output_type": "display_data"
    },
    {
     "data": {
      "application/vnd.jupyter.widget-view+json": {
       "model_id": "9b07821a7a82403c82a973201c76dd53",
       "version_major": 2,
       "version_minor": 0
      },
      "text/plain": [
       "VBox(children=(Output(),))"
      ]
     },
     "metadata": {},
     "output_type": "display_data"
    }
   ],
   "source": [
    "import time\n",
    "from tqdm import tqdm\n",
    "\n",
    "num_runs_text = widgets.Text(value='1000', description='Runs:')\n",
    "run_all_button = widgets.Button(description='Run All')\n",
    "output_results = widgets.Output()\n",
    "progress_bar = widgets.IntProgress(value=0, min=0, max=1, description='Progress:', bar_style='info')\n",
    "\n",
    "def run_all_runs(_):\n",
    "    num_runs = int(num_runs_text.value)\n",
    "    values = []\n",
    "    \n",
    "    with output_results:\n",
    "        output_results.clear_output()\n",
    "        progress_bar.max = num_runs\n",
    "        display(progress_bar)\n",
    "        \n",
    "        for _ in tqdm(range(num_runs), desc='Running'):\n",
    "            path, connection_count = instant_random_walk(G, start_node, resource)\n",
    "            values.append(connection_count)\n",
    "            clear(G)\n",
    "            time.sleep(0.01)  # Adding a small delay for progress bar visualization\n",
    "            \n",
    "            progress_bar.value += 1\n",
    "        \n",
    "        # Calculate statistics\n",
    "        min_val = min(values)\n",
    "        max_val = max(values)\n",
    "        mean_val = sum(values) / len(values)\n",
    "        median_val = sorted(values)[len(values) // 2]\n",
    "        std_val = (sum((x - mean_val) ** 2 for x in values) / len(values)) ** 0.5\n",
    "        \n",
    "        print(\"min:\", min_val)\n",
    "        print(\"max:\", max_val)\n",
    "        print(\"mean:\", mean_val)\n",
    "        print(\"median:\", median_val)\n",
    "        print(\"std:\", std_val)\n",
    "        \n",
    "        progress_bar.value = 0  # Reset the progress bar after completion\n",
    "\n",
    "run_all_button.on_click(run_all_runs)\n",
    "\n",
    "run_block = widgets.VBox([num_runs_text, run_all_button])\n",
    "results_block = widgets.VBox([output_results])\n",
    "progress_block = widgets.VBox([progress_bar])\n",
    "\n",
    "display(run_block, progress_block, results_block)\n"
   ]
  }
 ],
 "metadata": {
  "kernelspec": {
   "display_name": "Python 3 (ipykernel)",
   "language": "python",
   "name": "python3"
  },
  "language_info": {
   "codemirror_mode": {
    "name": "ipython",
    "version": 3
   },
   "file_extension": ".py",
   "mimetype": "text/x-python",
   "name": "python",
   "nbconvert_exporter": "python",
   "pygments_lexer": "ipython3",
   "version": "3.10.6"
  }
 },
 "nbformat": 4,
 "nbformat_minor": 5
}
